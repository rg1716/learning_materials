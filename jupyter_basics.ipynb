{
 "cells": [
  {
   "cell_type": "markdown",
   "metadata": {},
   "source": [
    "# Sample Headline\n",
    "## Sub-Headline\n",
    "### Sub-sub-headline\n",
    "*Italics Example*\n",
    "\n",
    "Normal text\n",
    "\n",
    "A list: \n",
    "1. Number one\n",
    "2. Number two \n",
    "3. Number three"
   ]
  },
  {
   "cell_type": "code",
   "execution_count": 9,
   "metadata": {},
   "outputs": [],
   "source": [
    "name = \"john\""
   ]
  },
  {
   "cell_type": "code",
   "execution_count": 11,
   "metadata": {},
   "outputs": [
    {
     "name": "stdout",
     "output_type": "stream",
     "text": [
      "Package           Version  \n",
      "----------------- ---------\n",
      "attrs             19.3.0   \n",
      "backcall          0.2.0    \n",
      "bleach            3.1.5    \n",
      "certifi           2020.6.20\n",
      "chardet           3.0.4    \n",
      "colorama          0.4.3    \n",
      "decorator         4.4.2    \n",
      "defusedxml        0.6.0    \n",
      "entrypoints       0.3      \n",
      "idna              2.10     \n",
      "ipykernel         5.3.0    \n",
      "ipython           7.16.1   \n",
      "ipython-genutils  0.2.0    \n",
      "jedi              0.17.1   \n",
      "Jinja2            2.11.2   "
     ]
    },
    {
     "name": "stderr",
     "output_type": "stream",
     "text": [
      "WARNING: You are using pip version 19.2.3, however version 20.1.1 is available.\n",
      "You should consider upgrading via the 'python -m pip install --upgrade pip' command.\n"
     ]
    },
    {
     "name": "stdout",
     "output_type": "stream",
     "text": [
      "\n",
      "json5             0.9.5    \n",
      "jsonschema        3.2.0    \n",
      "jupyter-client    6.1.5    \n",
      "jupyter-core      4.6.3    \n",
      "jupyterlab        2.1.5    \n",
      "jupyterlab-server 1.1.5    \n",
      "MarkupSafe        1.1.1    \n",
      "mistune           0.8.4    \n",
      "nbconvert         5.6.1    \n",
      "nbformat          5.0.7    \n",
      "notebook          6.0.3    \n",
      "numpy             1.19.0   \n",
      "packaging         20.4     \n",
      "pandocfilters     1.4.2    \n",
      "parso             0.7.0    \n",
      "pickleshare       0.7.5    \n",
      "pip               19.2.3   \n",
      "prometheus-client 0.8.0    \n",
      "prompt-toolkit    3.0.5    \n",
      "Pygments          2.6.1    \n",
      "pyparsing         2.4.7    \n",
      "pyrsistent        0.16.0   \n",
      "python-dateutil   2.8.1    \n",
      "pywin32           228      \n",
      "pywinpty          0.5.7    \n",
      "pyzmq             19.0.1   \n",
      "requests          2.24.0   \n",
      "Send2Trash        1.5.0    \n",
      "setuptools        41.2.0   \n",
      "six               1.15.0   \n",
      "terminado         0.8.3    \n",
      "testpath          0.4.4    \n",
      "tornado           6.0.4    \n",
      "traitlets         4.3.3    \n",
      "urllib3           1.25.9   \n",
      "wcwidth           0.2.5    \n",
      "webencodings      0.5.1    \n"
     ]
    }
   ],
   "source": [
    "!pip list"
   ]
  },
  {
   "cell_type": "code",
   "execution_count": 12,
   "metadata": {},
   "outputs": [
    {
     "data": {
      "application/json": {
       "cell": {
        "!": "OSMagics",
        "HTML": "Other",
        "SVG": "Other",
        "bash": "Other",
        "capture": "ExecutionMagics",
        "cmd": "Other",
        "debug": "ExecutionMagics",
        "file": "Other",
        "html": "DisplayMagics",
        "javascript": "DisplayMagics",
        "js": "DisplayMagics",
        "latex": "DisplayMagics",
        "markdown": "DisplayMagics",
        "perl": "Other",
        "prun": "ExecutionMagics",
        "pypy": "Other",
        "python": "Other",
        "python2": "Other",
        "python3": "Other",
        "ruby": "Other",
        "script": "ScriptMagics",
        "sh": "Other",
        "svg": "DisplayMagics",
        "sx": "OSMagics",
        "system": "OSMagics",
        "time": "ExecutionMagics",
        "timeit": "ExecutionMagics",
        "writefile": "OSMagics"
       },
       "line": {
        "alias": "OSMagics",
        "alias_magic": "BasicMagics",
        "autoawait": "AsyncMagics",
        "autocall": "AutoMagics",
        "automagic": "AutoMagics",
        "autosave": "KernelMagics",
        "bookmark": "OSMagics",
        "cd": "OSMagics",
        "clear": "KernelMagics",
        "cls": "KernelMagics",
        "colors": "BasicMagics",
        "conda": "PackagingMagics",
        "config": "ConfigMagics",
        "connect_info": "KernelMagics",
        "copy": "Other",
        "ddir": "Other",
        "debug": "ExecutionMagics",
        "dhist": "OSMagics",
        "dirs": "OSMagics",
        "doctest_mode": "BasicMagics",
        "echo": "Other",
        "ed": "Other",
        "edit": "KernelMagics",
        "env": "OSMagics",
        "gui": "BasicMagics",
        "hist": "Other",
        "history": "HistoryMagics",
        "killbgscripts": "ScriptMagics",
        "ldir": "Other",
        "less": "KernelMagics",
        "load": "CodeMagics",
        "load_ext": "ExtensionMagics",
        "loadpy": "CodeMagics",
        "logoff": "LoggingMagics",
        "logon": "LoggingMagics",
        "logstart": "LoggingMagics",
        "logstate": "LoggingMagics",
        "logstop": "LoggingMagics",
        "ls": "Other",
        "lsmagic": "BasicMagics",
        "macro": "ExecutionMagics",
        "magic": "BasicMagics",
        "matplotlib": "PylabMagics",
        "mkdir": "Other",
        "more": "KernelMagics",
        "notebook": "BasicMagics",
        "page": "BasicMagics",
        "pastebin": "CodeMagics",
        "pdb": "ExecutionMagics",
        "pdef": "NamespaceMagics",
        "pdoc": "NamespaceMagics",
        "pfile": "NamespaceMagics",
        "pinfo": "NamespaceMagics",
        "pinfo2": "NamespaceMagics",
        "pip": "PackagingMagics",
        "popd": "OSMagics",
        "pprint": "BasicMagics",
        "precision": "BasicMagics",
        "prun": "ExecutionMagics",
        "psearch": "NamespaceMagics",
        "psource": "NamespaceMagics",
        "pushd": "OSMagics",
        "pwd": "OSMagics",
        "pycat": "OSMagics",
        "pylab": "PylabMagics",
        "qtconsole": "KernelMagics",
        "quickref": "BasicMagics",
        "recall": "HistoryMagics",
        "rehashx": "OSMagics",
        "reload_ext": "ExtensionMagics",
        "ren": "Other",
        "rep": "Other",
        "rerun": "HistoryMagics",
        "reset": "NamespaceMagics",
        "reset_selective": "NamespaceMagics",
        "rmdir": "Other",
        "run": "ExecutionMagics",
        "save": "CodeMagics",
        "sc": "OSMagics",
        "set_env": "OSMagics",
        "store": "StoreMagics",
        "sx": "OSMagics",
        "system": "OSMagics",
        "tb": "ExecutionMagics",
        "time": "ExecutionMagics",
        "timeit": "ExecutionMagics",
        "unalias": "OSMagics",
        "unload_ext": "ExtensionMagics",
        "who": "NamespaceMagics",
        "who_ls": "NamespaceMagics",
        "whos": "NamespaceMagics",
        "xdel": "NamespaceMagics",
        "xmode": "BasicMagics"
       }
      },
      "text/plain": [
       "Available line magics:\n",
       "%alias  %alias_magic  %autoawait  %autocall  %automagic  %autosave  %bookmark  %cd  %clear  %cls  %colors  %conda  %config  %connect_info  %copy  %ddir  %debug  %dhist  %dirs  %doctest_mode  %echo  %ed  %edit  %env  %gui  %hist  %history  %killbgscripts  %ldir  %less  %load  %load_ext  %loadpy  %logoff  %logon  %logstart  %logstate  %logstop  %ls  %lsmagic  %macro  %magic  %matplotlib  %mkdir  %more  %notebook  %page  %pastebin  %pdb  %pdef  %pdoc  %pfile  %pinfo  %pinfo2  %pip  %popd  %pprint  %precision  %prun  %psearch  %psource  %pushd  %pwd  %pycat  %pylab  %qtconsole  %quickref  %recall  %rehashx  %reload_ext  %ren  %rep  %rerun  %reset  %reset_selective  %rmdir  %run  %save  %sc  %set_env  %store  %sx  %system  %tb  %time  %timeit  %unalias  %unload_ext  %who  %who_ls  %whos  %xdel  %xmode\n",
       "\n",
       "Available cell magics:\n",
       "%%!  %%HTML  %%SVG  %%bash  %%capture  %%cmd  %%debug  %%file  %%html  %%javascript  %%js  %%latex  %%markdown  %%perl  %%prun  %%pypy  %%python  %%python2  %%python3  %%ruby  %%script  %%sh  %%svg  %%sx  %%system  %%time  %%timeit  %%writefile\n",
       "\n",
       "Automagic is ON, % prefix IS NOT needed for line magics."
      ]
     },
     "execution_count": 12,
     "metadata": {},
     "output_type": "execute_result"
    }
   ],
   "source": [
    "%lsmagic"
   ]
  },
  {
   "cell_type": "code",
   "execution_count": 13,
   "metadata": {},
   "outputs": [
    {
     "data": {
      "text/plain": [
       "'C:\\\\Users\\\\Raul'"
      ]
     },
     "execution_count": 13,
     "metadata": {},
     "output_type": "execute_result"
    }
   ],
   "source": [
    "%pwd"
   ]
  },
  {
   "cell_type": "code",
   "execution_count": 14,
   "metadata": {},
   "outputs": [
    {
     "name": "stdout",
     "output_type": "stream",
     "text": [
      " Volume in drive C has no label.\n",
      " Volume Serial Number is 1E78-8BD1\n",
      "\n",
      " Directory of C:\\Users\\Raul\n",
      "\n",
      "02/07/2020  11:46    <DIR>          .\n",
      "02/07/2020  11:46    <DIR>          ..\n",
      "02/07/2020  11:38    <DIR>          .ipynb_checkpoints\n",
      "01/07/2020  13:29    <DIR>          .ipython\n",
      "23/06/2020  07:31    <DIR>          3D Objects\n",
      "23/06/2020  07:31    <DIR>          Contacts\n",
      "02/07/2020  11:34    <DIR>          Desktop\n",
      "23/06/2020  07:31    <DIR>          Documents\n",
      "02/07/2020  10:57    <DIR>          Downloads\n",
      "23/06/2020  07:31    <DIR>          Favorites\n",
      "23/06/2020  07:31    <DIR>          Links\n",
      "23/06/2020  07:31    <DIR>          Music\n",
      "22/06/2020  19:48    <DIR>          OneDrive\n",
      "01/07/2020  12:20    <DIR>          OneDrive - Imperial College London\n",
      "23/06/2020  07:31    <DIR>          Pictures\n",
      "01/07/2020  12:42    <DIR>          PycharmProjects\n",
      "23/06/2019  10:17    <DIR>          Roaming\n",
      "23/06/2020  07:31    <DIR>          Saved Games\n",
      "23/06/2020  07:31    <DIR>          Searches\n",
      "02/07/2020  11:46             4,014 Testing.ipynb\n",
      "23/06/2020  07:31    <DIR>          Videos\n",
      "               1 File(s)          4,014 bytes\n",
      "              20 Dir(s)  21,311,696,896 bytes free\n"
     ]
    }
   ],
   "source": [
    "%ls"
   ]
  },
  {
   "cell_type": "code",
   "execution_count": 8,
   "metadata": {},
   "outputs": [
    {
     "data": {
      "text/plain": [
       "'john'"
      ]
     },
     "execution_count": 8,
     "metadata": {},
     "output_type": "execute_result"
    }
   ],
   "source": [
    "name"
   ]
  },
  {
   "cell_type": "code",
   "execution_count": 16,
   "metadata": {},
   "outputs": [
    {
     "name": "stdout",
     "output_type": "stream",
     "text": [
      "178 µs ± 33.9 µs per loop (mean ± std. dev. of 7 runs, 10000 loops each)\n"
     ]
    }
   ],
   "source": [
    "%%timeit\n",
    "square_evens = [n*n for n in range(1000)]"
   ]
  },
  {
   "cell_type": "code",
   "execution_count": 32,
   "metadata": {},
   "outputs": [
    {
     "data": {
      "text/html": [
       "<div>\n",
       "<style scoped>\n",
       "    .dataframe tbody tr th:only-of-type {\n",
       "        vertical-align: middle;\n",
       "    }\n",
       "\n",
       "    .dataframe tbody tr th {\n",
       "        vertical-align: top;\n",
       "    }\n",
       "\n",
       "    .dataframe thead th {\n",
       "        text-align: right;\n",
       "    }\n",
       "</style>\n",
       "<table border=\"1\" class=\"dataframe\">\n",
       "  <thead>\n",
       "    <tr style=\"text-align: right;\">\n",
       "      <th></th>\n",
       "      <th>0</th>\n",
       "      <th>1</th>\n",
       "      <th>2</th>\n",
       "      <th>3</th>\n",
       "      <th>4</th>\n",
       "    </tr>\n",
       "  </thead>\n",
       "  <tbody>\n",
       "    <tr>\n",
       "      <th>0</th>\n",
       "      <td>0.824126</td>\n",
       "      <td>-1.030771</td>\n",
       "      <td>-0.303775</td>\n",
       "      <td>0.754008</td>\n",
       "      <td>-0.685603</td>\n",
       "    </tr>\n",
       "    <tr>\n",
       "      <th>1</th>\n",
       "      <td>2.050085</td>\n",
       "      <td>2.071475</td>\n",
       "      <td>1.155434</td>\n",
       "      <td>0.255593</td>\n",
       "      <td>1.039488</td>\n",
       "    </tr>\n",
       "    <tr>\n",
       "      <th>2</th>\n",
       "      <td>0.161924</td>\n",
       "      <td>1.890487</td>\n",
       "      <td>0.259808</td>\n",
       "      <td>0.786830</td>\n",
       "      <td>-0.697491</td>\n",
       "    </tr>\n",
       "    <tr>\n",
       "      <th>3</th>\n",
       "      <td>1.046627</td>\n",
       "      <td>0.330106</td>\n",
       "      <td>-1.348704</td>\n",
       "      <td>-0.558028</td>\n",
       "      <td>-0.596338</td>\n",
       "    </tr>\n",
       "    <tr>\n",
       "      <th>4</th>\n",
       "      <td>-0.401119</td>\n",
       "      <td>0.480357</td>\n",
       "      <td>0.510073</td>\n",
       "      <td>-0.535187</td>\n",
       "      <td>-0.396551</td>\n",
       "    </tr>\n",
       "  </tbody>\n",
       "</table>\n",
       "</div>"
      ],
      "text/plain": [
       "          0         1         2         3         4\n",
       "0  0.824126 -1.030771 -0.303775  0.754008 -0.685603\n",
       "1  2.050085  2.071475  1.155434  0.255593  1.039488\n",
       "2  0.161924  1.890487  0.259808  0.786830 -0.697491\n",
       "3  1.046627  0.330106 -1.348704 -0.558028 -0.596338\n",
       "4 -0.401119  0.480357  0.510073 -0.535187 -0.396551"
      ]
     },
     "execution_count": 32,
     "metadata": {},
     "output_type": "execute_result"
    }
   ],
   "source": [
    "import numpy as np \n",
    "import pandas as pd\n",
    "\n",
    "df = pd.DataFrame(np.random.randn(10,5))\n",
    "df.head()"
   ]
  }
 ],
 "metadata": {
  "kernelspec": {
   "display_name": "Python 3",
   "language": "python",
   "name": "python3"
  },
  "language_info": {
   "codemirror_mode": {
    "name": "ipython",
    "version": 3
   },
   "file_extension": ".py",
   "mimetype": "text/x-python",
   "name": "python",
   "nbconvert_exporter": "python",
   "pygments_lexer": "ipython3",
   "version": "3.8.3"
  }
 },
 "nbformat": 4,
 "nbformat_minor": 4
}
