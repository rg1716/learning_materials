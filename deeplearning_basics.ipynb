{
 "cells": [
  {
   "cell_type": "markdown",
   "metadata": {},
   "source": [
    "##  Deep Learning\n",
    "\n",
    "#### Basic explanation. \n",
    "\n",
    "At its core, the process of training in deep learning implies minimising an error function $E$ whose variables are $W = \\{\\omega_1,\\omega_2,...,\\omega_n\\}$ and $b$. \n",
    "\n",
    "To do so, we first evaluate this error funtion for each available data points $(X = \\{x_1,x_2,...,x_n\\})$ in a process known as **feedforward**.\n",
    "\n",
    "Once that is done, we find the gradient $\\nabla E$ of the error function, again in all the available data points: \n",
    "\n",
    "$$\\nabla E(x_i) \\quad\\forall i \\in n$$ \n",
    "\n",
    "We then move our function variables $W$ and $b$ along the gradient which is the line of greatest slope. In this aim, we also require a step to be multiplied times the slope, which is referred to as the learning rate $\\alpha$. This process is repeated for as all data points $n$ in a process known as **backpropagation**. Since we want to minimise the function, we will have to substract the gradient. \n",
    "\n",
    "$$\\omega_i' = \\omega_i - \\alpha \\cdot \\nabla E (x_i) = \\omega_i \\frac{\\partial E}{\\partial w_i} (x_i)$$\n",
    "\n",
    "$$b' = b - \\alpha \\cdot \\nabla E(x_i) = b - \\alpha \\cdot \\frac{\\partial E}{\\partial b}$$\n",
    "\n",
    "Note some subtle details. Firstly, note that, when calculating the gradient, each weight $\\omega_i$ has its own $E$ partial derivative. Secondly, note that the derivative with respect to $b$ is independent of $X$, and thus requires no futher specification.  "
   ]
  },
  {
   "cell_type": "markdown",
   "metadata": {},
   "source": [
    "#### Key analogy: a linear combination of linear combinations\n",
    "\n",
    "Another way in which the learning process can be thought of is by considering that each new hidden layer is merely a linear combination of previous linear combination. \n",
    "\n",
    "As a result, all of these later combinations would trace back to an original linear combination which made use of the initial inputs. Therefore, 2nd and higher hidden layers would be simply combinations of models with different peformance. \n",
    "\n",
    "The following video does an excellent job at explaining this idea. "
   ]
  },
  {
   "cell_type": "code",
   "execution_count": 26,
   "metadata": {},
   "outputs": [
    {
     "data": {
      "image/jpeg": "[encoded data removed]",
      "text/html": [
       "\n",
       "        <iframe\n",
       "            width=\"700\"\n",
       "            height=\"400\"\n",
       "            src=\"https://www.youtube.com/embed/1SmY3TZTyUk?start=194&end=305&controls=0&fs=1&rel=0\"\n",
       "            frameborder=\"0\"\n",
       "            allowfullscreen\n",
       "        ></iframe>\n",
       "        "
      ],
      "text/plain": [
       "<IPython.lib.display.YouTubeVideo at 0x5723880>"
      ]
     },
     "execution_count": 26,
     "metadata": {},
     "output_type": "execute_result"
    }
   ],
   "source": [
    "from IPython.display import YouTubeVideo\n",
    "\n",
    "YouTubeVideo(\"1SmY3TZTyUk\", width=700, height=400, start=194, end = 305, controls = 0, fs = 1, rel = 0)"
   ]
  },
  {
   "cell_type": "markdown",
   "metadata": {},
   "source": [
    "### Linear Algebra\n"
   ]
  }
 ],
 "metadata": {
  "kernelspec": {
   "display_name": "Python 3",
   "language": "python",
   "name": "python3"
  },
  "language_info": {
   "codemirror_mode": {
    "name": "ipython",
    "version": 3
   },
   "file_extension": ".py",
   "mimetype": "text/x-python",
   "name": "python",
   "nbconvert_exporter": "python",
   "pygments_lexer": "ipython3",
   "version": "3.8.3"
  }
 },
 "nbformat": 4,
 "nbformat_minor": 4
}
